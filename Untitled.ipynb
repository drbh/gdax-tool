{
 "cells": [
  {
   "cell_type": "code",
   "execution_count": null,
   "metadata": {
    "collapsed": true
   },
   "outputs": [],
   "source": [
    ""
   ]
  },
  {
   "cell_type": "code",
   "execution_count": 2,
   "metadata": {
    "collapsed": true
   },
   "outputs": [],
   "source": [
    "import GDAX\n",
    "import pandas as pd"
   ]
  },
  {
   "cell_type": "code",
   "execution_count": 4,
   "metadata": {
    "collapsed": false
   },
   "outputs": [],
   "source": [
    "publicClient = GDAX.PublicClient()\n",
    "rates = publicClient.getProduct24HrStats()\n",
    "# df = pd.DataFrame(data=rates,columns=[\"time\", \"low\", \"high\", \"open\", \"close\", \"volume\"])\n",
    "\n",
    "\n",
    "# df.index = pd.to_datetime(df.time,unit='s')\n",
    "# del df['time']"
   ]
  },
  {
   "cell_type": "code",
   "execution_count": 7,
   "metadata": {
    "collapsed": false
   },
   "outputs": [],
   "source": [
    "import GDAX\n",
    "# Paramters are optional\n",
    "wsClient = GDAX.WebsocketClient(url=\"wss://ws-feed.gdax.com\", products=[\"BTC-USD\", \"ETH-USD\"])\n",
    "# Do other stuff...\n",
    "# wsClient.close()"
   ]
  },
  {
   "cell_type": "code",
   "execution_count": 23,
   "metadata": {
    "collapsed": false
   },
   "outputs": [],
   "source": [
    "wsClient.close()"
   ]
  },
  {
   "cell_type": "code",
   "execution_count": 24,
   "metadata": {
    "collapsed": false
   },
   "outputs": [
    {
     "name": "stdout",
     "output_type": "stream",
     "text": [
      "Lets count the messages!\n",
      "wss://ws-feed.gdax.com ['LTC-USD']\n",
      "\n",
      "MessageCount = 0 \n",
      "\n",
      "Message type:match\t@ 26.980\n",
      "Message type:match\t@ 26.980\n",
      "Message type:match\t@ 26.980\n",
      "\n",
      "MessageCount = 118 \n",
      "\n",
      "\n",
      "MessageCount = 218 \n",
      "\n",
      "\n",
      "MessageCount = 258 \n",
      "\n",
      "\n",
      "MessageCount = 321 \n",
      "\n",
      "\n",
      "MessageCount = 427 \n",
      "\n",
      "-- Goodbye! --\n"
     ]
    }
   ],
   "source": [
    "import GDAX, time\n",
    "class myWebsocketClient(GDAX.WebsocketClient):\n",
    "    def onOpen(self):\n",
    "        self.url = \"wss://ws-feed.gdax.com/\"\n",
    "        self.products = [\"LTC-USD\"]\n",
    "        self.MessageCount = 0\n",
    "        print \"Lets count the messages!\"\n",
    "    def onMessage(self, msg):\n",
    "        self.MessageCount += 1\n",
    "        if 'price' in msg and 'type' in msg:\n",
    "            if msg['type'] == 'match':\n",
    "                print \"Message type:\" + msg[\"type\"] + \"\\t@ %.3f\" % float(msg[\"price\"])\n",
    "    def onClose(self):\n",
    "        print \"-- Goodbye! --\" \n",
    "\n",
    "wsClient = myWebsocketClient()\n",
    "wsClient.start()\n",
    "print wsClient.url, wsClient.products\n",
    "while (wsClient.MessageCount < 500):\n",
    "    print \"\\nMessageCount =\", \"%i \\n\" % wsClient.MessageCount\n",
    "    time.sleep(1)\n",
    "wsClient.close()"
   ]
  },
  {
   "cell_type": "code",
   "execution_count": null,
   "metadata": {
    "collapsed": true
   },
   "outputs": [],
   "source": [
    ""
   ]
  }
 ],
 "metadata": {
  "kernelspec": {
   "display_name": "Python 2",
   "language": "python",
   "name": "python2"
  },
  "language_info": {
   "codemirror_mode": {
    "name": "ipython",
    "version": 2.0
   },
   "file_extension": ".py",
   "mimetype": "text/x-python",
   "name": "python",
   "nbconvert_exporter": "python",
   "pygments_lexer": "ipython2",
   "version": "2.7.12"
  }
 },
 "nbformat": 4,
 "nbformat_minor": 0
}